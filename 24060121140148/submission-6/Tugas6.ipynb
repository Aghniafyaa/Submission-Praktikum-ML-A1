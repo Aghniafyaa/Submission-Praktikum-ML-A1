{
  "nbformat": 4,
  "nbformat_minor": 0,
  "metadata": {
    "colab": {
      "provenance": []
    },
    "kernelspec": {
      "name": "python3",
      "display_name": "Python 3"
    },
    "language_info": {
      "name": "python"
    }
  },
  "cells": [
    {
      "cell_type": "markdown",
      "source": [
        "\n",
        "*  Nama: Aghnia Alifya Kamila\n",
        "*   NIM: 24060121140148\n",
        "*   Nama Dataset: Lung Cancer\n",
        "\n",
        "*   Link Dataset: https://archive.ics.uci.edu/dataset/62/lung+cancer\n",
        "\n",
        "\n",
        "\n",
        "\n",
        "\n"
      ],
      "metadata": {
        "id": "_cHim6ixideS"
      }
    },
    {
      "cell_type": "code",
      "execution_count": 4,
      "metadata": {
        "id": "Zui20-eNmTho"
      },
      "outputs": [],
      "source": [
        "#Untuk mengimpor pustaka Pandas ke dalam kode Python.\n",
        "import pandas as pd\n",
        "from matplotlib import pyplot as plt\n",
        "from sklearn.preprocessing import StandardScaler\n",
        "from sklearn.decomposition import PCA"
      ]
    },
    {
      "cell_type": "markdown",
      "source": [
        "\n",
        "\n",
        "Pandas: import pandas as pd adalah cara untuk mengimpor pustaka Pandas ke dalam kode Python.\n",
        "\n",
        "Matplotlib: Matplotlib adalah pustaka visualisasi data yang memungkinkan pembuatan berbagai jenis plot, grafik, dan visualisasi lainnya di Python.\n",
        "\n",
        "Scikit-learn (sklearn): from sklearn.preprocessing import StandardScaler dan from sklearn.decomposition import PCA mengimpor modul StandardScaler dari pustaka Scikit-learn untuk standarisasi fitur dan PCA (Principal Component Analysis) untuk analisis komponen utama. Scikit-learn adalah pustaka yang populer untuk machine learning di Python, menyediakan alat untuk preprocessing data, pembelajaran mesin, dan evaluasi model.## This is formatted as code\n",
        "```\n",
        "\n"
      ],
      "metadata": {
        "id": "XLjfu_I8Xqp_"
      }
    },
    {
      "cell_type": "code",
      "source": [
        "#Variabel url digunakan untuk menyimpan URL tempat dataset breast cancer tersedia.\n",
        "url = \"https://archive.ics.uci.edu/ml/machine-learning-databases/lung-cancer/lung-cancer.data\"\n",
        "\n",
        "#Variabel names berisi daftar nama kolom yang akan digunakan untuk DataFrame yang akan dibaca.\n",
        "df = pd.read_csv(url, names=['class', 'Attribute1', 'Attribute2', 'Attribute3', 'Attribute4', 'Attribute5', 'Attribute6', 'Attribute7', 'Attribute8', 'Attribute9'])\n"
      ],
      "metadata": {
        "id": "UHxzE2YeRkan"
      },
      "execution_count": 5,
      "outputs": []
    },
    {
      "cell_type": "markdown",
      "source": [
        " Kode ini menggunakan fungsi pd.read_csv() dari pustaka Pandas untuk membaca file CSV dari URL yang diberikan. Parameter names digunakan untuk menentukan nama kolom untuk DataFrame yang akan dibuat. Di sini, kolom-kolom DataFrame tersebut diberi nama 'class', 'Attribute1', 'Attribute2', 'Attribute3', 'Attribute4', 'Attribute5', 'Attribute6', 'Attribute7', 'Attribute8', 'Attribute9'."
      ],
      "metadata": {
        "id": "LzVVTWoFYHjm"
      }
    },
    {
      "cell_type": "code",
      "source": [
        "#Standarisasi data\n",
        "features = ['class', 'Attribute1', 'Attribute2', 'Attribute3', 'Attribute4', 'Attribute5', 'Attribute6', 'Attribute7', 'Attribute8']\n",
        "x = df.loc[:,features].values\n",
        "y = df.loc[:,['Attribute9']].values\n",
        "x = StandardScaler().fit_transform(x)\n"
      ],
      "metadata": {
        "id": "_84iT61vRm_K"
      },
      "execution_count": 6,
      "outputs": []
    },
    {
      "cell_type": "markdown",
      "source": [
        "\n",
        "*  Variabel features menyimpan daftar nama kolom yang akan dijadikan fitur (features) untuk analisis. Kolom 'class' dan kolom-kolom 'Attribute1' hingga 'Attribute8' dipilih sebagai fitur-fitur yang akan digunakan.\n",
        "*  x adalah matriks fitur yang berisi nilai dari kolom-kolom yang terdapat pada features. Ini adalah variabel independen yang akan digunakan untuk analisis.\n",
        "y adalah vektor target yang berisi nilai dari kolom 'Attribute9'. Ini adalah variabel dependen yang akan diprediksi dalam suatu model.\n",
        "\n",
        "* StandardScaler() dari pustaka Scikit-learn untuk melakukan standarisasi fitur-fitur dalam matriks x. Standarisasi dilakukan dengan mengurangi rata-rata setiap fitur dan membaginya dengan standar deviasi fitur tersebut. Hal ini dilakukan agar semua fitur memiliki skala yang serupa dan membantu dalam kinerja algoritma pembelajaran mesin yang sensitif terhadap skala.\n",
        "\n",
        "\n",
        "\n",
        "\n"
      ],
      "metadata": {
        "id": "XBXxC49LYKgJ"
      }
    },
    {
      "cell_type": "code",
      "source": [
        "pca = PCA(n_components=2)\n",
        "principalComponents = pca.fit_transform(x)\n",
        "principalDf = pd.DataFrame(data = principalComponents, columns = ['principal component 1','principal component 2' ])"
      ],
      "metadata": {
        "id": "j5lEE1NRTUvg"
      },
      "execution_count": 7,
      "outputs": []
    },
    {
      "cell_type": "markdown",
      "source": [
        "Proses PCA ini digunakan untuk mengurangi dimensi dari data yang diwakili oleh fitur-fitur aslinya menjadi dua dimensi utama baru yang menjelaskan variasi (variance) yang terbesar dari data. Hal ini berguna dalam memvisualisasikan data yang memiliki dimensi tinggi ke dalam plot dua dimensi atau untuk mengurangi kompleksitas data sebelum proses pembelajaran mesin, terutama saat dimensi fitur sangat besar."
      ],
      "metadata": {
        "id": "vcLTeW6mhbjF"
      }
    },
    {
      "cell_type": "code",
      "source": [
        "finalDf = pd.concat([principalDf, df[['Attribute9']]], axis = 1)"
      ],
      "metadata": {
        "id": "46tf3RE6T6Nl"
      },
      "execution_count": 9,
      "outputs": []
    },
    {
      "cell_type": "markdown",
      "source": [
        "Hasil dari penggabungan ini adalah finalDf, yang merupakan DataFrame baru yang menggabungkan hasil dari PCA (komponen utama) dengan kolom 'Attribute9'. DataFrame finalDf ini kemungkinan akan digunakan untuk analisis lanjutan, visualisasi, atau pemodelan lebih lanjut pada data yang telah melalui tahap PCA.\n"
      ],
      "metadata": {
        "id": "tU7Jt6Gvhqov"
      }
    },
    {
      "cell_type": "code",
      "source": [
        "fig = plt.figure(figsize=(8, 8))\n",
        "ax = fig.add_subplot(1, 1, 1)\n",
        "ax.set_xlabel('Principal Component 1', fontsize=15)\n",
        "ax.set_ylabel('Principal Component 2', fontsize=15)  # Perubahan disini untuk set_ylabel\n",
        "ax.set_title('2 component PCA', fontsize=20)\n",
        "targets = ['Attribute1', 'Attribute2', 'Attribute3']\n",
        "colors = ['r', 'g', 'b']\n",
        "for target, color in zip(targets, colors):\n",
        "    indicesToKeep = finalDf['Attribute9'] == target\n",
        "    ax.scatter(finalDf.loc[indicesToKeep, 'principal component 1'],\n",
        "               finalDf.loc[indicesToKeep, 'principal component 2'],\n",
        "               c=color,\n",
        "               s=50)\n",
        "ax.legend(targets)\n",
        "ax.grid()\n",
        "plt.show()"
      ],
      "metadata": {
        "id": "K2nfUsKsUURV"
      },
      "execution_count": null,
      "outputs": []
    },
    {
      "cell_type": "markdown",
      "source": [
        "Kode ini menghasilkan plot scatter yang memvisualisasikan hasil dari PCA dalam dua dimensi, di mana setiap kelas ('Attribute1', 'Attribute2', 'Attribute3') direpresentasikan dengan warna yang berbeda untuk memahami pola atau hubungan antara kelas-kelas tersebut dalam ruang fitur yang baru setelah transformasi PCA."
      ],
      "metadata": {
        "id": "Yicd4DE1iZnd"
      }
    }
  ]
}