{
  "nbformat": 4,
  "nbformat_minor": 0,
  "metadata": {
    "colab": {
      "provenance": []
    },
    "kernelspec": {
      "name": "python3",
      "display_name": "Python 3"
    },
    "language_info": {
      "name": "python"
    }
  },
  "cells": [
    {
      "cell_type": "markdown",
      "source": [
        "- Nama: Aghnia Alifya Kamila\n",
        "- NIM: 24060121140148\n",
        "- Nama Dataset: Lung Cancer\n",
        "- Link Dataset:https://archive.ics.uci.edu/dataset/62/lung+cancer"
      ],
      "metadata": {
        "id": "TxFQlkSyIKyH"
      }
    },
    {
      "cell_type": "code",
      "execution_count": null,
      "metadata": {
        "id": "qmkqfCUmFDJN"
      },
      "outputs": [],
      "source": [
        "#Untuk mengimpor pustaka Pandas ke dalam kode Python.\n",
        "import pandas as pd"
      ]
    },
    {
      "cell_type": "code",
      "source": [
        "#Variabel url digunakan untuk menyimpan URL tempat dataset breast cancer tersedia.\n",
        "url = \"https://archive.ics.uci.edu/ml/machine-learning-databases/lung-cancer/lung-cancer.data\"\n",
        "\n",
        "#Variabel names berisi daftar nama kolom yang akan digunakan untuk DataFrame yang akan dibaca.\n",
        "names = ['class', 'Attribute1', 'Attribute2', 'Attribute3', 'Attribute4', 'Attribute5', 'Attribute6', 'Attribute7', 'Attribute8', 'Attribute9']\n",
        "\n",
        "#Untuk membaca dataset dari URL yang diberikan dan memuatnya ke dalam sebuah DataFrame menggunakan pustaka Pandas.\n",
        "dataset = pd.read_csv(url, names=names)"
      ],
      "metadata": {
        "id": "8szfE8HSG2Xj"
      },
      "execution_count": null,
      "outputs": []
    },
    {
      "cell_type": "code",
      "source": [
        "#Melihat dimensi dataset\n",
        "dataset.shape"
      ],
      "metadata": {
        "colab": {
          "base_uri": "https://localhost:8080/"
        },
        "id": "SO7CJaV-MXVU",
        "outputId": "0b4dbace-65d0-4458-abcf-d4e54ba0253c"
      },
      "execution_count": null,
      "outputs": [
        {
          "output_type": "execute_result",
          "data": {
            "text/plain": [
              "(32, 10)"
            ]
          },
          "metadata": {},
          "execution_count": 33
        }
      ]
    },
    {
      "cell_type": "code",
      "source": [
        "#Melihat isi dataset\n",
        "dataset"
      ],
      "metadata": {
        "id": "zhC361YPMbrK"
      },
      "execution_count": null,
      "outputs": []
    },
    {
      "cell_type": "code",
      "source": [
        "# Distribusi Kelas Data\n",
        "(dataset.groupby('class').size())"
      ],
      "metadata": {
        "id": "28l6FcCJMkOA"
      },
      "execution_count": null,
      "outputs": []
    },
    {
      "cell_type": "code",
      "source": [
        "#Ringkasan Statistik\n",
        "(dataset.describe())"
      ],
      "metadata": {
        "id": "NOMAVARaMxHA"
      },
      "execution_count": null,
      "outputs": []
    },
    {
      "cell_type": "code",
      "source": [
        "#Ringkasan Statistik\n",
        "import matplotlib.pyplot as plt\n",
        "\n",
        "# Ubah ukuran layout\n",
        "dataset.plot(kind='box', subplots=True, layout=(3, 4), sharex=False, sharey=False)\n",
        "plt.show()\n"
      ],
      "metadata": {
        "id": "H85VUpb3Mtdr"
      },
      "execution_count": null,
      "outputs": []
    },
    {
      "cell_type": "code",
      "source": [
        "#Visualisasi Data Menggunakan Plot Multivariat\n",
        "import pandas\n",
        "from pandas.plotting import scatter_matrix\n",
        "scatter_matrix(dataset)\n",
        "plt.show()"
      ],
      "metadata": {
        "id": "1r5hP1xxSl3Z"
      },
      "execution_count": null,
      "outputs": []
    },
    {
      "cell_type": "code",
      "source": [
        "# Visualisasi Data Menggunakan Plot Univariat\n",
        "dataset.hist()\n",
        "plt.show()"
      ],
      "metadata": {
        "id": "ciAX1P1xM9nz"
      },
      "execution_count": null,
      "outputs": []
    },
    {
      "cell_type": "markdown",
      "source": [
        "Trainn-Tes Split"
      ],
      "metadata": {
        "id": "JeX0CgPDVGir"
      }
    },
    {
      "cell_type": "code",
      "source": [
        "from sklearn import model_selection"
      ],
      "metadata": {
        "id": "C6jJyzAVVFZE"
      },
      "execution_count": null,
      "outputs": []
    },
    {
      "cell_type": "markdown",
      "source": [
        "model_selection menyediakan beragam fungsi dan kelas untuk pemisahan dataset menjadi data pelatihan dan data pengujian (train-test split), validasi silang (cross-validation), pemilihan parameter terbaik, dan evaluasi kinerja model, di antara fungsionalitas lainnya"
      ],
      "metadata": {
        "id": "2ZvXguA6vTiw"
      }
    },
    {
      "cell_type": "markdown",
      "source": [
        "Membuat Validasi Dataset"
      ],
      "metadata": {
        "id": "9g-Qx_ketzWW"
      }
    },
    {
      "cell_type": "code",
      "source": [
        "array = dataset.values\n",
        "\n",
        "X = array[:,0:4] #berisikan index ke-0 dan ke-3\n",
        "Y = array[:,4] #berisikkan index ke-4\n",
        "\n",
        "validation_size = 0.20\n",
        "\n",
        "seed = 7\n",
        "\n",
        "X_train, X_validation, Y_train, Y_validation = model_selection.train_test_split(X, Y, test_size=validation_size, random_state=seed)"
      ],
      "metadata": {
        "id": "wBVIn0f_Ve68"
      },
      "execution_count": null,
      "outputs": []
    },
    {
      "cell_type": "markdown",
      "source": [
        "Kode tersebut menggunakan train_test_split() dari modul model_selection di sklearn untuk membagi dataset menjadi data pelatihan (X_train, Y_train) dan data validasi (X_validation, Y_validation). Ini dilakukan dengan mengambil fitur dari kolom indeks 0 hingga 3 untuk X dan label dari kolom indeks 4 untuk Y. Proporsi data validasi diatur menjadi 20% dari keseluruhan dataset dengan nilai seed untuk pengacakan yang konsisten."
      ],
      "metadata": {
        "id": "XJA_SqXKvlL6"
      }
    },
    {
      "cell_type": "code",
      "source": [
        "print(\"X_train :\", X_train.shape)\n",
        "print(\"X_validation :\", X_validation.shape)\n",
        "print(\"Y_train :\", Y_train.shape)\n",
        "print(\"Y_validation :\", Y_validation.shape)"
      ],
      "metadata": {
        "colab": {
          "base_uri": "https://localhost:8080/"
        },
        "id": "kYv_FAVIWTDH",
        "outputId": "4a2c0de3-738b-42ae-ca0c-a40a391e99a4"
      },
      "execution_count": null,
      "outputs": [
        {
          "output_type": "stream",
          "name": "stdout",
          "text": [
            "X_train : (25, 4)\n",
            "X_validation : (7, 4)\n",
            "Y_train : (25,)\n",
            "Y_validation : (7,)\n"
          ]
        }
      ]
    },
    {
      "cell_type": "markdown",
      "source": [
        "Output tersebut menunjukkan dimensi atau ukuran dari setiap variabel setelah dilakukan pemisahan data menggunakan train_test_split().\n"
      ],
      "metadata": {
        "id": "dVHZXTnmvzL8"
      }
    },
    {
      "cell_type": "markdown",
      "source": [
        "K-Folds Cross Validation"
      ],
      "metadata": {
        "id": "ddlnosO_t4E6"
      }
    },
    {
      "cell_type": "code",
      "source": [
        "seed = 7\n",
        "\n",
        "scoring = 'accuracy'"
      ],
      "metadata": {
        "id": "Sbtdxz0pW9Yf"
      },
      "execution_count": null,
      "outputs": []
    },
    {
      "cell_type": "markdown",
      "source": [
        "Variabel `seed = 7` menetapkan nilai seed untuk pengacakan yang konsisten, sementara variabel `scoring = 'accuracy'` menentukan metrik evaluasi yang digunakan saat melatih model, yaitu akurasi (persentase prediksi yang benar)."
      ],
      "metadata": {
        "id": "0RzuO191wKNq"
      }
    },
    {
      "cell_type": "markdown",
      "source": [
        "Membangun Model"
      ],
      "metadata": {
        "id": "HAeCpk1tt7zr"
      }
    },
    {
      "cell_type": "code",
      "source": [
        "#import library berisi algoritma klasisfikasi yang akan digunakan\n",
        "from sklearn.neighbors import KNeighborsClassifier\n",
        "from sklearn.naive_bayes import GaussianNB\n",
        "from sklearn.svm import SVC\n",
        "\n",
        "# Spot Check Algorithms\n",
        "models = []\n",
        "\n",
        "models.append(('KNN', KNeighborsClassifier()))\n",
        "models.append(('NB', GaussianNB()))\n",
        "models.append(('SVM', SVC()))"
      ],
      "metadata": {
        "id": "Itj4arNcXB4q"
      },
      "execution_count": null,
      "outputs": []
    },
    {
      "cell_type": "code",
      "source": [
        "# evaluate each model in turn\n",
        "results = []\n",
        "\n",
        "names = []\n",
        "\n",
        "for name, model in models: #Iterasi dilakukan pada setiap model yang disimpan dalam variabel models\n",
        "\n",
        "  #Setiap model dievaluasi menggunakan cross_val_score() dengan menggunakan metode validasi silang (KFold) yang telah diinisialisasi sebelumnya\n",
        "  kfold = model_selection.KFold(n_splits=10, random_state=seed, shuffle=True)\n",
        "\n",
        "  #Hasil evaluasi dari masing-masing lipatan disimpan dalam cv_results.\n",
        "  cv_results = model_selection.cross_val_score(model, X_train, Y_train, cv=kfold, scoring=scoring)\n",
        "\n",
        "  #Hasil evaluasi dari setiap model ditambahkan ke dalam list results\n",
        "  results.append(cv_results)\n",
        "\n",
        "  #Nama setiap model disimpan dalam list names.\n",
        "  names.append(name)\n",
        "\n",
        "  #Dilakukan pencetakan hasil evaluasi masing-masing model beserta rata-rata dan standar deviasi dari performa evaluasi metrik akurasi.\n",
        "  msg = \"%s: %f (%f)\" % (name, cv_results.mean(), cv_results.std())\n",
        "  print(msg)"
      ],
      "metadata": {
        "colab": {
          "base_uri": "https://localhost:8080/"
        },
        "id": "ZeZbC4xxX63w",
        "outputId": "ea7be756-1d7f-4b38-b845-97eb0dec3c1e"
      },
      "execution_count": null,
      "outputs": [
        {
          "output_type": "stream",
          "name": "stdout",
          "text": [
            "KNN: 0.766667 (0.249444)\n",
            "NB: 0.766667 (0.249444)\n",
            "SVM: 0.766667 (0.249444)\n"
          ]
        }
      ]
    },
    {
      "cell_type": "markdown",
      "source": [
        "Hasil output menampilkan rata-rata akurasi dari setiap model klasifikasi (KNN, Naive Bayes, dan SVM) beserta standar deviasinya. Dalam contoh tersebut, rata-rata akurasi dari setiap model adalah 0.766667 dengan standar deviasi sebesar 0.249444. Ini menunjukkan bahwa ketiga model memiliki akurasi yang hampir sama dengan tingkat variasi yang relatif serupa selama proses validasi silang dilakukan."
      ],
      "metadata": {
        "id": "TTupAC0DwmbG"
      }
    },
    {
      "cell_type": "markdown",
      "source": [
        "Memilih Model Terbaik"
      ],
      "metadata": {
        "id": "cWWRYSRVuBQK"
      }
    },
    {
      "cell_type": "code",
      "source": [
        "from sklearn.metrics import accuracy_score, confusion_matrix, classification_report"
      ],
      "metadata": {
        "id": "r2ogMX7LYfPE"
      },
      "execution_count": null,
      "outputs": []
    },
    {
      "cell_type": "code",
      "source": [
        "#Mendefinisikan model Support Vector Classifier (SVC)\n",
        "svm = SVC()\n",
        "\n",
        "#Melatih model SVC dengan menggunakan data pelatihan\n",
        "svm.fit(X_train, Y_train)\n",
        "\n",
        "#Memprediksi label untuk data validasi (X_validation) dengan menggunakan model yang telah dilatih.\n",
        "predictions = svm.predict(X_validation)\n",
        "\n",
        "#Mencetak tingkat akurasi dari prediksi yang dibuat oleh model pada data validasi, dengan membandingkan prediksi model dengan label sebenarnya dari data validasi.\n",
        "print(accuracy_score(Y_validation, predictions))\n",
        "\n",
        "#Mencetak matriks konfusi yang menunjukkan jumlah prediksi yang benar dan salah yang dilakukan oleh model terhadap data validasi untuk setiap kelas.\n",
        "print(confusion_matrix(Y_validation, predictions))\n",
        "\n",
        "#Mencetak laporan klasifikasi yang berisi metrik evaluasi seperti presisi, recall, f1-score, dan nilai rata-rata untuk setiap kelas pada prediksi model terhadap data validasi.\n",
        "print(classification_report(Y_validation, predictions))"
      ],
      "metadata": {
        "colab": {
          "base_uri": "https://localhost:8080/"
        },
        "id": "I-JhZB7SY3w0",
        "outputId": "cf6b3821-77fd-42ee-967b-8e8557611912"
      },
      "execution_count": null,
      "outputs": [
        {
          "output_type": "stream",
          "name": "stdout",
          "text": [
            "0.8571428571428571\n",
            "[[0 1 0]\n",
            " [0 5 0]\n",
            " [0 0 1]]\n",
            "              precision    recall  f1-score   support\n",
            "\n",
            "           1       0.00      0.00      0.00         1\n",
            "           2       0.83      1.00      0.91         5\n",
            "           3       1.00      1.00      1.00         1\n",
            "\n",
            "    accuracy                           0.86         7\n",
            "   macro avg       0.61      0.67      0.64         7\n",
            "weighted avg       0.74      0.86      0.79         7\n",
            "\n"
          ]
        },
        {
          "output_type": "stream",
          "name": "stderr",
          "text": [
            "/usr/local/lib/python3.10/dist-packages/sklearn/metrics/_classification.py:1344: UndefinedMetricWarning: Precision and F-score are ill-defined and being set to 0.0 in labels with no predicted samples. Use `zero_division` parameter to control this behavior.\n",
            "  _warn_prf(average, modifier, msg_start, len(result))\n",
            "/usr/local/lib/python3.10/dist-packages/sklearn/metrics/_classification.py:1344: UndefinedMetricWarning: Precision and F-score are ill-defined and being set to 0.0 in labels with no predicted samples. Use `zero_division` parameter to control this behavior.\n",
            "  _warn_prf(average, modifier, msg_start, len(result))\n",
            "/usr/local/lib/python3.10/dist-packages/sklearn/metrics/_classification.py:1344: UndefinedMetricWarning: Precision and F-score are ill-defined and being set to 0.0 in labels with no predicted samples. Use `zero_division` parameter to control this behavior.\n",
            "  _warn_prf(average, modifier, msg_start, len(result))\n"
          ]
        }
      ]
    },
    {
      "cell_type": "markdown",
      "source": [
        "Dalam keseluruhan, model memiliki tingkat akurasi yang relatif baik. Namun, perlu diperhatikan bahwa karena kelas 1 memiliki precision dan recall yang rendah, model cenderung sulit untuk memprediksi kelas ini. Evaluasi ini memberikan gambaran tentang kinerja model untuk setiap kelas secara individual, membantu dalam pemahaman terhadap kekuatan dan kelemahan model dalam melakukan prediksi."
      ],
      "metadata": {
        "id": "SGelM_FYypkB"
      }
    }
  ]
}